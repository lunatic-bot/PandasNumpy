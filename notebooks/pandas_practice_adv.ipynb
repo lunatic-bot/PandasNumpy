{
 "cells": [
  {
   "cell_type": "code",
   "execution_count": null,
   "id": "ccfbfb3c",
   "metadata": {},
   "outputs": [],
   "source": [
    "## practice advanced pandas"
   ]
  },
  {
   "cell_type": "code",
   "execution_count": null,
   "metadata": {},
   "outputs": [],
   "source": []
  },
  {
   "cell_type": "code",
   "execution_count": null,
   "metadata": {},
   "outputs": [],
   "source": []
  },
  {
   "cell_type": "code",
   "execution_count": null,
   "metadata": {},
   "outputs": [],
   "source": []
  },
  {
   "cell_type": "code",
   "execution_count": null,
   "metadata": {},
   "outputs": [],
   "source": []
  }
 ],
 "metadata": {
  "language_info": {
   "name": "python"
  }
 },
 "nbformat": 4,
 "nbformat_minor": 5
}
