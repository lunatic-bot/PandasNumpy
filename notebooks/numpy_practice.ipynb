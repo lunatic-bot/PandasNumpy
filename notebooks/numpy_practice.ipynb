{
 "cells": [
  {
   "cell_type": "code",
   "execution_count": 1,
   "id": "4110bdc3",
   "metadata": {},
   "outputs": [],
   "source": [
    "import numpy as np"
   ]
  },
  {
   "cell_type": "code",
   "execution_count": 2,
   "id": "eb196340",
   "metadata": {},
   "outputs": [],
   "source": [
    "# Player IDs (10 players)\n",
    "players = np.arange(1, 11)\n",
    "#random points scored in 5 games (10 players × 5 games)\n",
    "points = np.random.randint(0, 30, size=(10,5))"
   ]
  },
  {
   "cell_type": "code",
   "execution_count": 3,
   "id": "7bb332b0",
   "metadata": {},
   "outputs": [
    {
     "name": "stdout",
     "output_type": "stream",
     "text": [
      "Players: [ 1  2  3  4  5  6  7  8  9 10]\n",
      "Points:\n",
      " [[14 18 21  1 28]\n",
      " [ 8 23  6  2 13]\n",
      " [29 20  5 15 14]\n",
      " [ 1 18  8 20 21]\n",
      " [26 13  2  6  5]\n",
      " [ 5  0  1 26 17]\n",
      " [27  4 19 11 15]\n",
      " [ 8 26 15 22 12]\n",
      " [ 3 23 15  8 24]\n",
      " [ 9 10 15 15 21]]\n",
      "Shape :  (10, 5) Size :  50 Dtype: int32\n"
     ]
    }
   ],
   "source": [
    "print(\"Players:\", players)\n",
    "print(\"Points:\\n\", points)\n",
    "print(\"Shape : \", points.shape, \"Size : \", points.size, \"Dtype:\", points.dtype)"
   ]
  },
  {
   "cell_type": "code",
   "execution_count": 4,
   "id": "b2d75272",
   "metadata": {},
   "outputs": [
    {
     "name": "stdout",
     "output_type": "stream",
     "text": [
      "Points of player 1: [14 18 21  1 28]\n",
      "Points in game 3 (all players): [21  6  5  8  2  1 19 15 15 15]\n",
      "Points of players 1–3 in games 2–4:\n",
      " [[18 21  1]\n",
      " [23  6  2]\n",
      " [20  5 15]]\n"
     ]
    }
   ],
   "source": [
    "print(\"Points of player 1:\", points[0])\n",
    "print(\"Points in game 3 (all players):\", points[:, 2])\n",
    "print(\"Points of players 1–3 in games 2–4:\\n\", points[0:3, 1:4])"
   ]
  },
  {
   "cell_type": "code",
   "execution_count": 5,
   "id": "afe32ef4",
   "metadata": {},
   "outputs": [
    {
     "data": {
      "text/plain": [
       "array([[16, 20, 23,  3, 30],\n",
       "       [10, 25,  8,  4, 15],\n",
       "       [31, 22,  7, 17, 16],\n",
       "       [ 3, 20, 10, 22, 23],\n",
       "       [28, 15,  4,  8,  7],\n",
       "       [ 7,  2,  3, 28, 19],\n",
       "       [29,  6, 21, 13, 17],\n",
       "       [10, 28, 17, 24, 14],\n",
       "       [ 5, 25, 17, 10, 26],\n",
       "       [11, 12, 17, 17, 23]], dtype=int32)"
      ]
     },
     "execution_count": 5,
     "metadata": {},
     "output_type": "execute_result"
    }
   ],
   "source": [
    "## Broadcasting\n",
    "bonus = 2\n",
    "points_bonus = points + bonus\n",
    "points_bonus"
   ]
  },
  {
   "cell_type": "code",
   "execution_count": 6,
   "id": "83b66881",
   "metadata": {},
   "outputs": [
    {
     "data": {
      "text/plain": [
       "array([[14. , 21.6, 21. ,  1.5, 28. ],\n",
       "       [ 8. , 27.6,  6. ,  3. , 13. ],\n",
       "       [29. , 24. ,  5. , 22.5, 14. ],\n",
       "       [ 1. , 21.6,  8. , 30. , 21. ],\n",
       "       [26. , 15.6,  2. ,  9. ,  5. ],\n",
       "       [ 5. ,  0. ,  1. , 39. , 17. ],\n",
       "       [27. ,  4.8, 19. , 16.5, 15. ],\n",
       "       [ 8. , 31.2, 15. , 33. , 12. ],\n",
       "       [ 3. , 27.6, 15. , 12. , 24. ],\n",
       "       [ 9. , 12. , 15. , 22.5, 21. ]])"
      ]
     },
     "execution_count": 6,
     "metadata": {},
     "output_type": "execute_result"
    }
   ],
   "source": [
    "## Vectorized Operation\n",
    "\n",
    "weights = np.array([1, 1.2, 1, 1.5, 1])\n",
    "weighted_points = points*weights\n",
    "weighted_points"
   ]
  },
  {
   "cell_type": "code",
   "execution_count": 7,
   "id": "e047b9ed",
   "metadata": {},
   "outputs": [
    {
     "name": "stdout",
     "output_type": "stream",
     "text": [
      "Total points by each player: [82 52 83 68 52 49 76 83 73 70]\n",
      "Average points per game: [13.  15.5 10.7 12.6 17. ]\n",
      "Overall max score: 29\n"
     ]
    }
   ],
   "source": [
    "## Aggregation - \n",
    "\n",
    "print(\"Total points by each player:\", points.sum(axis=1))\n",
    "print(\"Average points per game:\", points.mean(axis=0))\n",
    "print(\"Overall max score:\", points.max())"
   ]
  },
  {
   "cell_type": "code",
   "execution_count": 8,
   "id": "af2e7851",
   "metadata": {},
   "outputs": [
    {
     "name": "stdout",
     "output_type": "stream",
     "text": [
      "Players who scored > 100 total :  []\n",
      "Game 1 scores > 20 :  [29 26 27]\n"
     ]
    }
   ],
   "source": [
    "## Boolean masking and filtering\n",
    "print(\"Players who scored > 100 total : \", players[points.sum(axis=1)>100])\n",
    "print(\"Game 1 scores > 20 : \", points[points[:, 0]>20, 0])"
   ]
  },
  {
   "cell_type": "code",
   "execution_count": 9,
   "id": "7ad3663e",
   "metadata": {},
   "outputs": [
    {
     "name": "stdout",
     "output_type": "stream",
     "text": [
      "Flattened :  [14 18 21  1 28  8 23  6  2 13 29 20  5 15 14]\n",
      "Combined shape :  (20, 5)\n"
     ]
    },
    {
     "data": {
      "text/plain": [
       "array([[14, 18, 21,  1, 28],\n",
       "       [ 8, 23,  6,  2, 13],\n",
       "       [29, 20,  5, 15, 14],\n",
       "       [ 1, 18,  8, 20, 21],\n",
       "       [26, 13,  2,  6,  5],\n",
       "       [ 5,  0,  1, 26, 17],\n",
       "       [27,  4, 19, 11, 15],\n",
       "       [ 8, 26, 15, 22, 12],\n",
       "       [ 3, 23, 15,  8, 24],\n",
       "       [ 9, 10, 15, 15, 21],\n",
       "       [ 7,  0,  9, 11,  6],\n",
       "       [10,  2, 15,  2,  5],\n",
       "       [ 0, 14, 26, 10, 16],\n",
       "       [12,  0,  4, 25, 22],\n",
       "       [20, 17, 15, 22,  9],\n",
       "       [ 5, 26,  0, 18,  4],\n",
       "       [10,  4,  8,  6,  9],\n",
       "       [22, 29, 25,  7, 18],\n",
       "       [17, 26,  2,  5,  6],\n",
       "       [ 7, 21,  9,  1, 23]], dtype=int32)"
      ]
     },
     "execution_count": 9,
     "metadata": {},
     "output_type": "execute_result"
    }
   ],
   "source": [
    "## Reshaping and stacking - \n",
    "flat = points.flatten()\n",
    "print(\"Flattened : \", flat[:15])\n",
    "\n",
    "# reshaped = points.reshape(5, 10)\n",
    "# reshaped\n",
    "\n",
    "points_team2 = np.random.randint(0, 30, size=(10,5))\n",
    "combined = np.vstack([points, points_team2])\n",
    "print(\"Combined shape : \", combined.shape)\n",
    "combined"
   ]
  },
  {
   "cell_type": "code",
   "execution_count": 10,
   "id": "6070d96b",
   "metadata": {},
   "outputs": [
    {
     "name": "stdout",
     "output_type": "stream",
     "text": [
      "Corelation shape :  (10, 10)\n"
     ]
    },
    {
     "data": {
      "text/plain": [
       "array([[ 1.        ,  0.51032048, -0.23622351, -0.00342932, -0.1735662 ,\n",
       "        -0.46521366,  0.09737038, -0.36823551,  0.69002905,  0.39558445],\n",
       "       [ 0.51032048,  1.        ,  0.24913052,  0.26846666,  0.17775493,\n",
       "        -0.52180816, -0.5437601 ,  0.37454607,  0.71366695, -0.2128793 ],\n",
       "       [-0.23622351,  0.24913052,  1.        , -0.34440834,  0.94947552,\n",
       "        -0.08907546,  0.23569291, -0.20468831, -0.41437409, -0.63441015],\n",
       "       [-0.00342932,  0.26846666, -0.34440834,  1.        , -0.61427883,\n",
       "         0.56630982, -0.82267145,  0.62119745,  0.64899997,  0.58484381],\n",
       "       [-0.1735662 ,  0.17775493,  0.94947552, -0.61427883,  1.        ,\n",
       "        -0.31455342,  0.43078119, -0.33774192, -0.52205348, -0.7542061 ],\n",
       "       [-0.46521366, -0.52180816, -0.08907546,  0.56630982, -0.31455342,\n",
       "         1.        , -0.12790041,  0.0530843 , -0.16722078,  0.55816939],\n",
       "       [ 0.09737038, -0.5437601 ,  0.23569291, -0.82267145,  0.43078119,\n",
       "        -0.12790041,  1.        , -0.92827131, -0.64357926, -0.09682647],\n",
       "       [-0.36823551,  0.37454607, -0.20468831,  0.62119745, -0.33774192,\n",
       "         0.0530843 , -0.92827131,  1.        ,  0.36825339, -0.16346049],\n",
       "       [ 0.69002905,  0.71366695, -0.41437409,  0.64899997, -0.52205348,\n",
       "        -0.16722078, -0.64357926,  0.36825339,  1.        ,  0.47691567],\n",
       "       [ 0.39558445, -0.2128793 , -0.63441015,  0.58484381, -0.7542061 ,\n",
       "         0.55816939, -0.09682647, -0.16346049,  0.47691567,  1.        ]])"
      ]
     },
     "execution_count": 10,
     "metadata": {},
     "output_type": "execute_result"
    }
   ],
   "source": [
    "## Liner algebra - \n",
    "\n",
    "corr = np.corrcoef(points)\n",
    "print(\"Corelation shape : \", corr.shape)\n",
    "corr"
   ]
  },
  {
   "cell_type": "code",
   "execution_count": 11,
   "id": "15c255a9",
   "metadata": {},
   "outputs": [
    {
     "name": "stdout",
     "output_type": "stream",
     "text": [
      "Player 1 weighted :  86.1\n"
     ]
    }
   ],
   "source": [
    "## Dot product - \n",
    "print(\"Player 1 weighted : \", np.dot(points[0], weights))"
   ]
  },
  {
   "cell_type": "code",
   "execution_count": 18,
   "id": "87c00e02",
   "metadata": {},
   "outputs": [
    {
     "data": {
      "text/plain": [
       "array([[17.48357077, 14.30867849, 18.23844269, 22.61514928, 13.82923313],\n",
       "       [13.82931522, 22.89606408, 18.83717365, 12.65262807, 17.71280022],\n",
       "       [12.68291154, 12.67135123, 16.20981136,  5.43359878,  6.37541084],\n",
       "       [12.18856235,  9.9358444 , 16.57123666, 10.45987962,  7.93848149],\n",
       "       [22.32824384, 13.8711185 , 15.33764102,  7.87625907, 12.27808638],\n",
       "       [15.55461295,  9.24503211, 16.87849009, 11.99680655, 13.54153125],\n",
       "       [11.99146694, 24.26139092, 14.93251388,  9.71144536, 19.11272456],\n",
       "       [ 8.89578175, 16.04431798,  5.20164938,  8.35906976, 15.98430618],\n",
       "       [18.6923329 , 15.85684141, 14.42175859, 13.49448152,  7.60739005],\n",
       "       [11.40077896, 12.69680615, 20.28561113, 16.71809145,  6.18479922]])"
      ]
     },
     "execution_count": 18,
     "metadata": {},
     "output_type": "execute_result"
    }
   ],
   "source": [
    "## Random and reproducibility - \n",
    "\n",
    "np.random.seed(42)\n",
    "random_scores = np.random.normal(loc=15, scale=5, size=(10,5))\n",
    "random_scores"
   ]
  },
  {
   "cell_type": "code",
   "execution_count": null,
   "id": "faf3de93",
   "metadata": {},
   "outputs": [],
   "source": []
  },
  {
   "cell_type": "code",
   "execution_count": null,
   "id": "99d3d268",
   "metadata": {},
   "outputs": [],
   "source": []
  },
  {
   "cell_type": "code",
   "execution_count": null,
   "id": "8238f23e",
   "metadata": {},
   "outputs": [],
   "source": []
  }
 ],
 "metadata": {
  "kernelspec": {
   "display_name": "Python 3",
   "language": "python",
   "name": "python3"
  },
  "language_info": {
   "codemirror_mode": {
    "name": "ipython",
    "version": 3
   },
   "file_extension": ".py",
   "mimetype": "text/x-python",
   "name": "python",
   "nbconvert_exporter": "python",
   "pygments_lexer": "ipython3",
   "version": "3.11.1"
  }
 },
 "nbformat": 4,
 "nbformat_minor": 5
}
